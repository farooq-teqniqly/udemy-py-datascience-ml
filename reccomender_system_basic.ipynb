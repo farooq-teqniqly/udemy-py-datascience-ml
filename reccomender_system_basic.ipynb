{
 "cells": [
  {
   "cell_type": "code",
   "execution_count": 102,
   "metadata": {
    "collapsed": true
   },
   "outputs": [],
   "source": [
    "import pandas as pd\n",
    "import numpy as np"
   ]
  },
  {
   "cell_type": "code",
   "execution_count": 103,
   "outputs": [],
   "source": [
    "column_names = [\"user_id\", \"item_id\", \"rating\", \"timestamp\"]"
   ],
   "metadata": {
    "collapsed": false,
    "pycharm": {
     "name": "#%%\n"
    }
   }
  },
  {
   "cell_type": "code",
   "execution_count": 104,
   "outputs": [],
   "source": [
    "df = pd.read_csv(\"u.data\", sep=\"\\t\", names=column_names)"
   ],
   "metadata": {
    "collapsed": false,
    "pycharm": {
     "name": "#%%\n"
    }
   }
  },
  {
   "cell_type": "code",
   "execution_count": 105,
   "outputs": [
    {
     "data": {
      "text/plain": "        user_id  item_id  rating  timestamp\n0             0       50       5  881250949\n1             0      172       5  881250949\n2             0      133       1  881250949\n3           196      242       3  881250949\n4           186      302       3  891717742\n...         ...      ...     ...        ...\n99998       880      476       3  880175444\n99999       716      204       5  879795543\n100000      276     1090       1  874795795\n100001       13      225       2  882399156\n100002       12      203       3  879959583\n\n[100003 rows x 4 columns]",
      "text/html": "<div>\n<style scoped>\n    .dataframe tbody tr th:only-of-type {\n        vertical-align: middle;\n    }\n\n    .dataframe tbody tr th {\n        vertical-align: top;\n    }\n\n    .dataframe thead th {\n        text-align: right;\n    }\n</style>\n<table border=\"1\" class=\"dataframe\">\n  <thead>\n    <tr style=\"text-align: right;\">\n      <th></th>\n      <th>user_id</th>\n      <th>item_id</th>\n      <th>rating</th>\n      <th>timestamp</th>\n    </tr>\n  </thead>\n  <tbody>\n    <tr>\n      <th>0</th>\n      <td>0</td>\n      <td>50</td>\n      <td>5</td>\n      <td>881250949</td>\n    </tr>\n    <tr>\n      <th>1</th>\n      <td>0</td>\n      <td>172</td>\n      <td>5</td>\n      <td>881250949</td>\n    </tr>\n    <tr>\n      <th>2</th>\n      <td>0</td>\n      <td>133</td>\n      <td>1</td>\n      <td>881250949</td>\n    </tr>\n    <tr>\n      <th>3</th>\n      <td>196</td>\n      <td>242</td>\n      <td>3</td>\n      <td>881250949</td>\n    </tr>\n    <tr>\n      <th>4</th>\n      <td>186</td>\n      <td>302</td>\n      <td>3</td>\n      <td>891717742</td>\n    </tr>\n    <tr>\n      <th>...</th>\n      <td>...</td>\n      <td>...</td>\n      <td>...</td>\n      <td>...</td>\n    </tr>\n    <tr>\n      <th>99998</th>\n      <td>880</td>\n      <td>476</td>\n      <td>3</td>\n      <td>880175444</td>\n    </tr>\n    <tr>\n      <th>99999</th>\n      <td>716</td>\n      <td>204</td>\n      <td>5</td>\n      <td>879795543</td>\n    </tr>\n    <tr>\n      <th>100000</th>\n      <td>276</td>\n      <td>1090</td>\n      <td>1</td>\n      <td>874795795</td>\n    </tr>\n    <tr>\n      <th>100001</th>\n      <td>13</td>\n      <td>225</td>\n      <td>2</td>\n      <td>882399156</td>\n    </tr>\n    <tr>\n      <th>100002</th>\n      <td>12</td>\n      <td>203</td>\n      <td>3</td>\n      <td>879959583</td>\n    </tr>\n  </tbody>\n</table>\n<p>100003 rows × 4 columns</p>\n</div>"
     },
     "execution_count": 105,
     "metadata": {},
     "output_type": "execute_result"
    }
   ],
   "source": [
    "df"
   ],
   "metadata": {
    "collapsed": false,
    "pycharm": {
     "name": "#%%\n"
    }
   }
  },
  {
   "cell_type": "code",
   "execution_count": 106,
   "outputs": [],
   "source": [
    "movie_titles_df = pd.read_csv(\"Movie_Id_Titles\")"
   ],
   "metadata": {
    "collapsed": false,
    "pycharm": {
     "name": "#%%\n"
    }
   }
  },
  {
   "cell_type": "code",
   "execution_count": 107,
   "outputs": [],
   "source": [
    "import re\n",
    "\n",
    "def extract_year(title: str) -> int:\n",
    "    match = re.search(r\"\\A.+\\((?P<year>\\d{4})\\).*\\Z\", title.strip())\n",
    "\n",
    "    if match:\n",
    "        return int(match.group(\"year\"))\n",
    "\n",
    "def decade(year: int):\n",
    "    if np.isnan(year):\n",
    "        return np.nan\n",
    "\n",
    "    return round(year/10)*10\n",
    "\n",
    "movie_titles_df[\"year\"] = movie_titles_df[\"title\"].apply(extract_year)\n",
    "movie_titles_df[\"decade\"] = movie_titles_df[\"year\"].apply(decade)\n",
    "movie_titles_df.dropna(inplace=True)"
   ],
   "metadata": {
    "collapsed": false,
    "pycharm": {
     "name": "#%%\n"
    }
   }
  },
  {
   "cell_type": "code",
   "execution_count": 108,
   "outputs": [
    {
     "data": {
      "text/plain": "      item_id                                      title    year  decade\n0           1                           Toy Story (1995)  1995.0  2000.0\n1           2                           GoldenEye (1995)  1995.0  2000.0\n2           3                          Four Rooms (1995)  1995.0  2000.0\n3           4                          Get Shorty (1995)  1995.0  2000.0\n4           5                             Copycat (1995)  1995.0  2000.0\n...       ...                                        ...     ...     ...\n1677     1678                          Mat' i syn (1997)  1997.0  2000.0\n1678     1679                           B. Monkey (1998)  1998.0  2000.0\n1679     1680                       Sliding Doors (1998)  1998.0  2000.0\n1680     1681                        You So Crazy (1994)  1994.0  1990.0\n1681     1682  Scream of Stone (Schrei aus Stein) (1991)  1991.0  1990.0\n\n[1681 rows x 4 columns]",
      "text/html": "<div>\n<style scoped>\n    .dataframe tbody tr th:only-of-type {\n        vertical-align: middle;\n    }\n\n    .dataframe tbody tr th {\n        vertical-align: top;\n    }\n\n    .dataframe thead th {\n        text-align: right;\n    }\n</style>\n<table border=\"1\" class=\"dataframe\">\n  <thead>\n    <tr style=\"text-align: right;\">\n      <th></th>\n      <th>item_id</th>\n      <th>title</th>\n      <th>year</th>\n      <th>decade</th>\n    </tr>\n  </thead>\n  <tbody>\n    <tr>\n      <th>0</th>\n      <td>1</td>\n      <td>Toy Story (1995)</td>\n      <td>1995.0</td>\n      <td>2000.0</td>\n    </tr>\n    <tr>\n      <th>1</th>\n      <td>2</td>\n      <td>GoldenEye (1995)</td>\n      <td>1995.0</td>\n      <td>2000.0</td>\n    </tr>\n    <tr>\n      <th>2</th>\n      <td>3</td>\n      <td>Four Rooms (1995)</td>\n      <td>1995.0</td>\n      <td>2000.0</td>\n    </tr>\n    <tr>\n      <th>3</th>\n      <td>4</td>\n      <td>Get Shorty (1995)</td>\n      <td>1995.0</td>\n      <td>2000.0</td>\n    </tr>\n    <tr>\n      <th>4</th>\n      <td>5</td>\n      <td>Copycat (1995)</td>\n      <td>1995.0</td>\n      <td>2000.0</td>\n    </tr>\n    <tr>\n      <th>...</th>\n      <td>...</td>\n      <td>...</td>\n      <td>...</td>\n      <td>...</td>\n    </tr>\n    <tr>\n      <th>1677</th>\n      <td>1678</td>\n      <td>Mat' i syn (1997)</td>\n      <td>1997.0</td>\n      <td>2000.0</td>\n    </tr>\n    <tr>\n      <th>1678</th>\n      <td>1679</td>\n      <td>B. Monkey (1998)</td>\n      <td>1998.0</td>\n      <td>2000.0</td>\n    </tr>\n    <tr>\n      <th>1679</th>\n      <td>1680</td>\n      <td>Sliding Doors (1998)</td>\n      <td>1998.0</td>\n      <td>2000.0</td>\n    </tr>\n    <tr>\n      <th>1680</th>\n      <td>1681</td>\n      <td>You So Crazy (1994)</td>\n      <td>1994.0</td>\n      <td>1990.0</td>\n    </tr>\n    <tr>\n      <th>1681</th>\n      <td>1682</td>\n      <td>Scream of Stone (Schrei aus Stein) (1991)</td>\n      <td>1991.0</td>\n      <td>1990.0</td>\n    </tr>\n  </tbody>\n</table>\n<p>1681 rows × 4 columns</p>\n</div>"
     },
     "execution_count": 108,
     "metadata": {},
     "output_type": "execute_result"
    }
   ],
   "source": [
    "movie_titles_df"
   ],
   "metadata": {
    "collapsed": false,
    "pycharm": {
     "name": "#%%\n"
    }
   }
  },
  {
   "cell_type": "code",
   "execution_count": 109,
   "outputs": [],
   "source": [
    "df = pd.merge(df, movie_titles_df, how=\"inner\", on=\"item_id\")"
   ],
   "metadata": {
    "collapsed": false,
    "pycharm": {
     "name": "#%%\n"
    }
   }
  },
  {
   "cell_type": "code",
   "execution_count": 110,
   "outputs": [
    {
     "data": {
      "text/plain": "       user_id  item_id  rating  timestamp  \\\n0            0       50       5  881250949   \n1          290       50       5  880473582   \n2           79       50       4  891271545   \n3            2       50       5  888552084   \n4            8       50       5  879362124   \n...        ...      ...     ...        ...   \n99989      840     1674       4  891211682   \n99990      655     1640       3  888474646   \n99991      655     1637       3  888984255   \n99992      655     1630       3  887428735   \n99993      655     1641       3  887427810   \n\n                                                   title    year  decade  \n0                                       Star Wars (1977)  1977.0  1980.0  \n1                                       Star Wars (1977)  1977.0  1980.0  \n2                                       Star Wars (1977)  1977.0  1980.0  \n3                                       Star Wars (1977)  1977.0  1980.0  \n4                                       Star Wars (1977)  1977.0  1980.0  \n...                                                  ...     ...     ...  \n99989                                  Mamma Roma (1962)  1962.0  1960.0  \n99990                             Eighth Day, The (1996)  1996.0  2000.0  \n99991                                  Girls Town (1996)  1996.0  2000.0  \n99992  Silence of the Palace, The (Saimt el Qusur) (1...  1994.0  1990.0  \n99993                                    Dadetown (1995)  1995.0  2000.0  \n\n[99994 rows x 7 columns]",
      "text/html": "<div>\n<style scoped>\n    .dataframe tbody tr th:only-of-type {\n        vertical-align: middle;\n    }\n\n    .dataframe tbody tr th {\n        vertical-align: top;\n    }\n\n    .dataframe thead th {\n        text-align: right;\n    }\n</style>\n<table border=\"1\" class=\"dataframe\">\n  <thead>\n    <tr style=\"text-align: right;\">\n      <th></th>\n      <th>user_id</th>\n      <th>item_id</th>\n      <th>rating</th>\n      <th>timestamp</th>\n      <th>title</th>\n      <th>year</th>\n      <th>decade</th>\n    </tr>\n  </thead>\n  <tbody>\n    <tr>\n      <th>0</th>\n      <td>0</td>\n      <td>50</td>\n      <td>5</td>\n      <td>881250949</td>\n      <td>Star Wars (1977)</td>\n      <td>1977.0</td>\n      <td>1980.0</td>\n    </tr>\n    <tr>\n      <th>1</th>\n      <td>290</td>\n      <td>50</td>\n      <td>5</td>\n      <td>880473582</td>\n      <td>Star Wars (1977)</td>\n      <td>1977.0</td>\n      <td>1980.0</td>\n    </tr>\n    <tr>\n      <th>2</th>\n      <td>79</td>\n      <td>50</td>\n      <td>4</td>\n      <td>891271545</td>\n      <td>Star Wars (1977)</td>\n      <td>1977.0</td>\n      <td>1980.0</td>\n    </tr>\n    <tr>\n      <th>3</th>\n      <td>2</td>\n      <td>50</td>\n      <td>5</td>\n      <td>888552084</td>\n      <td>Star Wars (1977)</td>\n      <td>1977.0</td>\n      <td>1980.0</td>\n    </tr>\n    <tr>\n      <th>4</th>\n      <td>8</td>\n      <td>50</td>\n      <td>5</td>\n      <td>879362124</td>\n      <td>Star Wars (1977)</td>\n      <td>1977.0</td>\n      <td>1980.0</td>\n    </tr>\n    <tr>\n      <th>...</th>\n      <td>...</td>\n      <td>...</td>\n      <td>...</td>\n      <td>...</td>\n      <td>...</td>\n      <td>...</td>\n      <td>...</td>\n    </tr>\n    <tr>\n      <th>99989</th>\n      <td>840</td>\n      <td>1674</td>\n      <td>4</td>\n      <td>891211682</td>\n      <td>Mamma Roma (1962)</td>\n      <td>1962.0</td>\n      <td>1960.0</td>\n    </tr>\n    <tr>\n      <th>99990</th>\n      <td>655</td>\n      <td>1640</td>\n      <td>3</td>\n      <td>888474646</td>\n      <td>Eighth Day, The (1996)</td>\n      <td>1996.0</td>\n      <td>2000.0</td>\n    </tr>\n    <tr>\n      <th>99991</th>\n      <td>655</td>\n      <td>1637</td>\n      <td>3</td>\n      <td>888984255</td>\n      <td>Girls Town (1996)</td>\n      <td>1996.0</td>\n      <td>2000.0</td>\n    </tr>\n    <tr>\n      <th>99992</th>\n      <td>655</td>\n      <td>1630</td>\n      <td>3</td>\n      <td>887428735</td>\n      <td>Silence of the Palace, The (Saimt el Qusur) (1...</td>\n      <td>1994.0</td>\n      <td>1990.0</td>\n    </tr>\n    <tr>\n      <th>99993</th>\n      <td>655</td>\n      <td>1641</td>\n      <td>3</td>\n      <td>887427810</td>\n      <td>Dadetown (1995)</td>\n      <td>1995.0</td>\n      <td>2000.0</td>\n    </tr>\n  </tbody>\n</table>\n<p>99994 rows × 7 columns</p>\n</div>"
     },
     "execution_count": 110,
     "metadata": {},
     "output_type": "execute_result"
    }
   ],
   "source": [
    "df"
   ],
   "metadata": {
    "collapsed": false,
    "pycharm": {
     "name": "#%%\n"
    }
   }
  },
  {
   "cell_type": "code",
   "execution_count": 111,
   "outputs": [
    {
     "data": {
      "text/plain": "title\nMarlene Dietrich: Shadow and Light (1996)     5.0\nStar Kid (1997)                               5.0\nPrefontaine (1997)                            5.0\nAiqing wansui (1994)                          5.0\nSanta with Muscles (1996)                     5.0\n                                             ... \nThe Courtyard (1995)                          1.0\nBaton Rouge (1988)                            1.0\nMille bolle blu (1993)                        1.0\nStefano Quantestorie (1993)                   1.0\nPower 98 (1995)                               1.0\nName: rating, Length: 1663, dtype: float64"
     },
     "execution_count": 111,
     "metadata": {},
     "output_type": "execute_result"
    }
   ],
   "source": [
    "df.groupby(\"title\")[\"rating\"].mean().sort_values(ascending=False)"
   ],
   "metadata": {
    "collapsed": false,
    "pycharm": {
     "name": "#%%\n"
    }
   }
  },
  {
   "cell_type": "code",
   "execution_count": 115,
   "outputs": [
    {
     "data": {
      "text/plain": "<AxesSubplot:>"
     },
     "execution_count": 115,
     "metadata": {},
     "output_type": "execute_result"
    },
    {
     "data": {
      "text/plain": "<Figure size 432x288 with 1 Axes>",
      "image/png": "[encoded data removed]"
     },
     "metadata": {
      "needs_background": "light"
     },
     "output_type": "display_data"
    }
   ],
   "source": [
    "df[\"decade\"].hist(bins=50)"
   ],
   "metadata": {
    "collapsed": false,
    "pycharm": {
     "name": "#%%\n"
    }
   }
  },
  {
   "cell_type": "code",
   "execution_count": 112,
   "outputs": [],
   "source": [
    "ratings = pd.DataFrame(df.groupby(\"title\")[\"rating\"].mean())"
   ],
   "metadata": {
    "collapsed": false,
    "pycharm": {
     "name": "#%%\n"
    }
   }
  },
  {
   "cell_type": "code",
   "execution_count": 113,
   "outputs": [],
   "source": [
    "ratings[\"num_ratings\"] = pd.DataFrame(df.groupby(\"title\")[\"rating\"].count())"
   ],
   "metadata": {
    "collapsed": false,
    "pycharm": {
     "name": "#%%\n"
    }
   }
  },
  {
   "cell_type": "code",
   "execution_count": 114,
   "outputs": [
    {
     "data": {
      "text/plain": "<AxesSubplot:>"
     },
     "execution_count": 114,
     "metadata": {},
     "output_type": "execute_result"
    },
    {
     "data": {
      "text/plain": "<Figure size 432x288 with 1 Axes>",
      "image/png": "[encoded data removed]"
     },
     "metadata": {
      "needs_background": "light"
     },
     "output_type": "display_data"
    }
   ],
   "source": [
    "ratings[\"num_ratings\"].hist(bins=70)"
   ],
   "metadata": {
    "collapsed": false,
    "pycharm": {
     "name": "#%%\n"
    }
   }
  },
  {
   "cell_type": "code",
   "execution_count": 116,
   "outputs": [
    {
     "data": {
      "text/plain": "<AxesSubplot:>"
     },
     "execution_count": 116,
     "metadata": {},
     "output_type": "execute_result"
    },
    {
     "data": {
      "text/plain": "<Figure size 432x288 with 1 Axes>",
      "image/png": "[encoded data removed]"
     },
     "metadata": {
      "needs_background": "light"
     },
     "output_type": "display_data"
    }
   ],
   "source": [
    "ratings[\"rating\"].hist(bins=70)"
   ],
   "metadata": {
    "collapsed": false,
    "pycharm": {
     "name": "#%%\n"
    }
   }
  },
  {
   "cell_type": "code",
   "execution_count": 117,
   "outputs": [],
   "source": [
    "movie_matrix = df.pivot_table(index=\"user_id\", columns=\"title\", values=\"rating\")"
   ],
   "metadata": {
    "collapsed": false,
    "pycharm": {
     "name": "#%%\n"
    }
   }
  },
  {
   "cell_type": "code",
   "execution_count": 118,
   "outputs": [
    {
     "data": {
      "text/plain": "title    'Til There Was You (1997)  1-900 (1994)  101 Dalmatians (1996)  \\\nuser_id                                                                   \n0                              NaN           NaN                    NaN   \n1                              NaN           NaN                    2.0   \n2                              NaN           NaN                    NaN   \n3                              NaN           NaN                    NaN   \n4                              NaN           NaN                    NaN   \n...                            ...           ...                    ...   \n939                            NaN           NaN                    NaN   \n940                            NaN           NaN                    NaN   \n941                            NaN           NaN                    NaN   \n942                            NaN           NaN                    NaN   \n943                            NaN           NaN                    NaN   \n\ntitle    12 Angry Men (1957)  187 (1997)  2 Days in the Valley (1996)  \\\nuser_id                                                                 \n0                        NaN         NaN                          NaN   \n1                        5.0         NaN                          NaN   \n2                        NaN         NaN                          NaN   \n3                        NaN         2.0                          NaN   \n4                        NaN         NaN                          NaN   \n...                      ...         ...                          ...   \n939                      NaN         NaN                          NaN   \n940                      NaN         NaN                          NaN   \n941                      NaN         NaN                          NaN   \n942                      NaN         NaN                          NaN   \n943                      NaN         NaN                          2.0   \n\ntitle    20,000 Leagues Under the Sea (1954)  2001: A Space Odyssey (1968)  \\\nuser_id                                                                      \n0                                        NaN                           NaN   \n1                                        3.0                           4.0   \n2                                        NaN                           NaN   \n3                                        NaN                           NaN   \n4                                        NaN                           NaN   \n...                                      ...                           ...   \n939                                      NaN                           NaN   \n940                                      NaN                           NaN   \n941                                      NaN                           NaN   \n942                                      NaN                           3.0   \n943                                      NaN                           NaN   \n\ntitle    3 Ninjas: High Noon At Mega Mountain (1998)  39 Steps, The (1935)  \\\nuser_id                                                                      \n0                                                NaN                   NaN   \n1                                                NaN                   NaN   \n2                                                1.0                   NaN   \n3                                                NaN                   NaN   \n4                                                NaN                   NaN   \n...                                              ...                   ...   \n939                                              NaN                   NaN   \n940                                              NaN                   NaN   \n941                                              NaN                   NaN   \n942                                              NaN                   3.0   \n943                                              NaN                   NaN   \n\ntitle    ...  Wyatt Earp (1994)  Yankee Zulu (1994)  Year of the Horse (1997)  \\\nuser_id  ...                                                                    \n0        ...                NaN                 NaN                       NaN   \n1        ...                NaN                 NaN                       NaN   \n2        ...                NaN                 NaN                       NaN   \n3        ...                NaN                 NaN                       NaN   \n4        ...                NaN                 NaN                       NaN   \n...      ...                ...                 ...                       ...   \n939      ...                NaN                 NaN                       NaN   \n940      ...                NaN                 NaN                       NaN   \n941      ...                NaN                 NaN                       NaN   \n942      ...                NaN                 NaN                       NaN   \n943      ...                1.0                 NaN                       NaN   \n\ntitle    You So Crazy (1994)  Young Frankenstein (1974)  Young Guns (1988)  \\\nuser_id                                                                      \n0                        NaN                        NaN                NaN   \n1                        NaN                        5.0                3.0   \n2                        NaN                        NaN                NaN   \n3                        NaN                        NaN                NaN   \n4                        NaN                        NaN                NaN   \n...                      ...                        ...                ...   \n939                      NaN                        NaN                NaN   \n940                      NaN                        NaN                NaN   \n941                      NaN                        NaN                NaN   \n942                      NaN                        NaN                NaN   \n943                      NaN                        NaN                4.0   \n\ntitle    Young Guns II (1990)  Young Poisoner's Handbook, The (1995)  \\\nuser_id                                                                \n0                         NaN                                    NaN   \n1                         NaN                                    NaN   \n2                         NaN                                    NaN   \n3                         NaN                                    NaN   \n4                         NaN                                    NaN   \n...                       ...                                    ...   \n939                       NaN                                    NaN   \n940                       NaN                                    NaN   \n941                       NaN                                    NaN   \n942                       NaN                                    NaN   \n943                       3.0                                    NaN   \n\ntitle    Zeus and Roxanne (1997)  Á köldum klaka (Cold Fever) (1994)  \nuser_id                                                               \n0                            NaN                                 NaN  \n1                            NaN                                 NaN  \n2                            NaN                                 NaN  \n3                            NaN                                 NaN  \n4                            NaN                                 NaN  \n...                          ...                                 ...  \n939                          NaN                                 NaN  \n940                          NaN                                 NaN  \n941                          NaN                                 NaN  \n942                          NaN                                 NaN  \n943                          NaN                                 NaN  \n\n[944 rows x 1663 columns]",
      "text/html": "<div>\n<style scoped>\n    .dataframe tbody tr th:only-of-type {\n        vertical-align: middle;\n    }\n\n    .dataframe tbody tr th {\n        vertical-align: top;\n    }\n\n    .dataframe thead th {\n        text-align: right;\n    }\n</style>\n<table border=\"1\" class=\"dataframe\">\n  <thead>\n    <tr style=\"text-align: right;\">\n      <th>title</th>\n      <th>'Til There Was You (1997)</th>\n      <th>1-900 (1994)</th>\n      <th>101 Dalmatians (1996)</th>\n      <th>12 Angry Men (1957)</th>\n      <th>187 (1997)</th>\n      <th>2 Days in the Valley (1996)</th>\n      <th>20,000 Leagues Under the Sea (1954)</th>\n      <th>2001: A Space Odyssey (1968)</th>\n      <th>3 Ninjas: High Noon At Mega Mountain (1998)</th>\n      <th>39 Steps, The (1935)</th>\n      <th>...</th>\n      <th>Wyatt Earp (1994)</th>\n      <th>Yankee Zulu (1994)</th>\n      <th>Year of the Horse (1997)</th>\n      <th>You So Crazy (1994)</th>\n      <th>Young Frankenstein (1974)</th>\n      <th>Young Guns (1988)</th>\n      <th>Young Guns II (1990)</th>\n      <th>Young Poisoner's Handbook, The (1995)</th>\n      <th>Zeus and Roxanne (1997)</th>\n      <th>Á köldum klaka (Cold Fever) (1994)</th>\n    </tr>\n    <tr>\n      <th>user_id</th>\n      <th></th>\n      <th></th>\n      <th></th>\n      <th></th>\n      <th></th>\n      <th></th>\n      <th></th>\n      <th></th>\n      <th></th>\n      <th></th>\n      <th></th>\n      <th></th>\n      <th></th>\n      <th></th>\n      <th></th>\n      <th></th>\n      <th></th>\n      <th></th>\n      <th></th>\n      <th></th>\n      <th></th>\n    </tr>\n  </thead>\n  <tbody>\n    <tr>\n      <th>0</th>\n      <td>NaN</td>\n      <td>NaN</td>\n      <td>NaN</td>\n      <td>NaN</td>\n      <td>NaN</td>\n      <td>NaN</td>\n      <td>NaN</td>\n      <td>NaN</td>\n      <td>NaN</td>\n      <td>NaN</td>\n      <td>...</td>\n      <td>NaN</td>\n      <td>NaN</td>\n      <td>NaN</td>\n      <td>NaN</td>\n      <td>NaN</td>\n      <td>NaN</td>\n      <td>NaN</td>\n      <td>NaN</td>\n      <td>NaN</td>\n      <td>NaN</td>\n    </tr>\n    <tr>\n      <th>1</th>\n      <td>NaN</td>\n      <td>NaN</td>\n      <td>2.0</td>\n      <td>5.0</td>\n      <td>NaN</td>\n      <td>NaN</td>\n      <td>3.0</td>\n      <td>4.0</td>\n      <td>NaN</td>\n      <td>NaN</td>\n      <td>...</td>\n      <td>NaN</td>\n      <td>NaN</td>\n      <td>NaN</td>\n      <td>NaN</td>\n      <td>5.0</td>\n      <td>3.0</td>\n      <td>NaN</td>\n      <td>NaN</td>\n      <td>NaN</td>\n      <td>NaN</td>\n    </tr>\n    <tr>\n      <th>2</th>\n      <td>NaN</td>\n      <td>NaN</td>\n      <td>NaN</td>\n      <td>NaN</td>\n      <td>NaN</td>\n      <td>NaN</td>\n      <td>NaN</td>\n      <td>NaN</td>\n      <td>1.0</td>\n      <td>NaN</td>\n      <td>...</td>\n      <td>NaN</td>\n      <td>NaN</td>\n      <td>NaN</td>\n      <td>NaN</td>\n      <td>NaN</td>\n      <td>NaN</td>\n      <td>NaN</td>\n      <td>NaN</td>\n      <td>NaN</td>\n      <td>NaN</td>\n    </tr>\n    <tr>\n      <th>3</th>\n      <td>NaN</td>\n      <td>NaN</td>\n      <td>NaN</td>\n      <td>NaN</td>\n      <td>2.0</td>\n      <td>NaN</td>\n      <td>NaN</td>\n      <td>NaN</td>\n      <td>NaN</td>\n      <td>NaN</td>\n      <td>...</td>\n      <td>NaN</td>\n      <td>NaN</td>\n      <td>NaN</td>\n      <td>NaN</td>\n      <td>NaN</td>\n      <td>NaN</td>\n      <td>NaN</td>\n      <td>NaN</td>\n      <td>NaN</td>\n      <td>NaN</td>\n    </tr>\n    <tr>\n      <th>4</th>\n      <td>NaN</td>\n      <td>NaN</td>\n      <td>NaN</td>\n      <td>NaN</td>\n      <td>NaN</td>\n      <td>NaN</td>\n      <td>NaN</td>\n      <td>NaN</td>\n      <td>NaN</td>\n      <td>NaN</td>\n      <td>...</td>\n      <td>NaN</td>\n      <td>NaN</td>\n      <td>NaN</td>\n      <td>NaN</td>\n      <td>NaN</td>\n      <td>NaN</td>\n      <td>NaN</td>\n      <td>NaN</td>\n      <td>NaN</td>\n      <td>NaN</td>\n    </tr>\n    <tr>\n      <th>...</th>\n      <td>...</td>\n      <td>...</td>\n      <td>...</td>\n      <td>...</td>\n      <td>...</td>\n      <td>...</td>\n      <td>...</td>\n      <td>...</td>\n      <td>...</td>\n      <td>...</td>\n      <td>...</td>\n      <td>...</td>\n      <td>...</td>\n      <td>...</td>\n      <td>...</td>\n      <td>...</td>\n      <td>...</td>\n      <td>...</td>\n      <td>...</td>\n      <td>...</td>\n      <td>...</td>\n    </tr>\n    <tr>\n      <th>939</th>\n      <td>NaN</td>\n      <td>NaN</td>\n      <td>NaN</td>\n      <td>NaN</td>\n      <td>NaN</td>\n      <td>NaN</td>\n      <td>NaN</td>\n      <td>NaN</td>\n      <td>NaN</td>\n      <td>NaN</td>\n      <td>...</td>\n      <td>NaN</td>\n      <td>NaN</td>\n      <td>NaN</td>\n      <td>NaN</td>\n      <td>NaN</td>\n      <td>NaN</td>\n      <td>NaN</td>\n      <td>NaN</td>\n      <td>NaN</td>\n      <td>NaN</td>\n    </tr>\n    <tr>\n      <th>940</th>\n      <td>NaN</td>\n      <td>NaN</td>\n      <td>NaN</td>\n      <td>NaN</td>\n      <td>NaN</td>\n      <td>NaN</td>\n      <td>NaN</td>\n      <td>NaN</td>\n      <td>NaN</td>\n      <td>NaN</td>\n      <td>...</td>\n      <td>NaN</td>\n      <td>NaN</td>\n      <td>NaN</td>\n      <td>NaN</td>\n      <td>NaN</td>\n      <td>NaN</td>\n      <td>NaN</td>\n      <td>NaN</td>\n      <td>NaN</td>\n      <td>NaN</td>\n    </tr>\n    <tr>\n      <th>941</th>\n      <td>NaN</td>\n      <td>NaN</td>\n      <td>NaN</td>\n      <td>NaN</td>\n      <td>NaN</td>\n      <td>NaN</td>\n      <td>NaN</td>\n      <td>NaN</td>\n      <td>NaN</td>\n      <td>NaN</td>\n      <td>...</td>\n      <td>NaN</td>\n      <td>NaN</td>\n      <td>NaN</td>\n      <td>NaN</td>\n      <td>NaN</td>\n      <td>NaN</td>\n      <td>NaN</td>\n      <td>NaN</td>\n      <td>NaN</td>\n      <td>NaN</td>\n    </tr>\n    <tr>\n      <th>942</th>\n      <td>NaN</td>\n      <td>NaN</td>\n      <td>NaN</td>\n      <td>NaN</td>\n      <td>NaN</td>\n      <td>NaN</td>\n      <td>NaN</td>\n      <td>3.0</td>\n      <td>NaN</td>\n      <td>3.0</td>\n      <td>...</td>\n      <td>NaN</td>\n      <td>NaN</td>\n      <td>NaN</td>\n      <td>NaN</td>\n      <td>NaN</td>\n      <td>NaN</td>\n      <td>NaN</td>\n      <td>NaN</td>\n      <td>NaN</td>\n      <td>NaN</td>\n    </tr>\n    <tr>\n      <th>943</th>\n      <td>NaN</td>\n      <td>NaN</td>\n      <td>NaN</td>\n      <td>NaN</td>\n      <td>NaN</td>\n      <td>2.0</td>\n      <td>NaN</td>\n      <td>NaN</td>\n      <td>NaN</td>\n      <td>NaN</td>\n      <td>...</td>\n      <td>1.0</td>\n      <td>NaN</td>\n      <td>NaN</td>\n      <td>NaN</td>\n      <td>NaN</td>\n      <td>4.0</td>\n      <td>3.0</td>\n      <td>NaN</td>\n      <td>NaN</td>\n      <td>NaN</td>\n    </tr>\n  </tbody>\n</table>\n<p>944 rows × 1663 columns</p>\n</div>"
     },
     "execution_count": 118,
     "metadata": {},
     "output_type": "execute_result"
    }
   ],
   "source": [
    "movie_matrix"
   ],
   "metadata": {
    "collapsed": false,
    "pycharm": {
     "name": "#%%\n"
    }
   }
  },
  {
   "cell_type": "markdown",
   "source": [],
   "metadata": {
    "collapsed": false,
    "pycharm": {
     "name": "#%% md\n"
    }
   }
  },
  {
   "cell_type": "code",
   "execution_count": 119,
   "outputs": [
    {
     "data": {
      "text/plain": "                                      rating  num_ratings\ntitle                                                    \nStar Wars (1977)                    4.359589          584\nContact (1997)                      3.803536          509\nFargo (1996)                        4.155512          508\nReturn of the Jedi (1983)           4.007890          507\nLiar Liar (1997)                    3.156701          485\n...                                      ...          ...\nGreat Day in Harlem, A (1994)       5.000000            1\nStefano Quantestorie (1993)         1.000000            1\nGood Morning (1971)                 1.000000            1\nGirls Town (1996)                   3.000000            1\nÁ köldum klaka (Cold Fever) (1994)  3.000000            1\n\n[1663 rows x 2 columns]",
      "text/html": "<div>\n<style scoped>\n    .dataframe tbody tr th:only-of-type {\n        vertical-align: middle;\n    }\n\n    .dataframe tbody tr th {\n        vertical-align: top;\n    }\n\n    .dataframe thead th {\n        text-align: right;\n    }\n</style>\n<table border=\"1\" class=\"dataframe\">\n  <thead>\n    <tr style=\"text-align: right;\">\n      <th></th>\n      <th>rating</th>\n      <th>num_ratings</th>\n    </tr>\n    <tr>\n      <th>title</th>\n      <th></th>\n      <th></th>\n    </tr>\n  </thead>\n  <tbody>\n    <tr>\n      <th>Star Wars (1977)</th>\n      <td>4.359589</td>\n      <td>584</td>\n    </tr>\n    <tr>\n      <th>Contact (1997)</th>\n      <td>3.803536</td>\n      <td>509</td>\n    </tr>\n    <tr>\n      <th>Fargo (1996)</th>\n      <td>4.155512</td>\n      <td>508</td>\n    </tr>\n    <tr>\n      <th>Return of the Jedi (1983)</th>\n      <td>4.007890</td>\n      <td>507</td>\n    </tr>\n    <tr>\n      <th>Liar Liar (1997)</th>\n      <td>3.156701</td>\n      <td>485</td>\n    </tr>\n    <tr>\n      <th>...</th>\n      <td>...</td>\n      <td>...</td>\n    </tr>\n    <tr>\n      <th>Great Day in Harlem, A (1994)</th>\n      <td>5.000000</td>\n      <td>1</td>\n    </tr>\n    <tr>\n      <th>Stefano Quantestorie (1993)</th>\n      <td>1.000000</td>\n      <td>1</td>\n    </tr>\n    <tr>\n      <th>Good Morning (1971)</th>\n      <td>1.000000</td>\n      <td>1</td>\n    </tr>\n    <tr>\n      <th>Girls Town (1996)</th>\n      <td>3.000000</td>\n      <td>1</td>\n    </tr>\n    <tr>\n      <th>Á köldum klaka (Cold Fever) (1994)</th>\n      <td>3.000000</td>\n      <td>1</td>\n    </tr>\n  </tbody>\n</table>\n<p>1663 rows × 2 columns</p>\n</div>"
     },
     "execution_count": 119,
     "metadata": {},
     "output_type": "execute_result"
    }
   ],
   "source": [
    "ratings.sort_values(\"num_ratings\", ascending=False)"
   ],
   "metadata": {
    "collapsed": false,
    "pycharm": {
     "name": "#%%\n"
    }
   }
  },
  {
   "cell_type": "code",
   "execution_count": 120,
   "outputs": [],
   "source": [
    "star_wars_ratings = movie_matrix[\"Star Wars (1977)\"]\n",
    "liar_liar_ratings = movie_matrix[\"Liar Liar (1997)\"]"
   ],
   "metadata": {
    "collapsed": false,
    "pycharm": {
     "name": "#%%\n"
    }
   }
  },
  {
   "cell_type": "code",
   "execution_count": 59,
   "outputs": [
    {
     "name": "stderr",
     "output_type": "stream",
     "text": [
      "c:\\users\\faroo\\.venv\\lib\\site-packages\\numpy\\lib\\function_base.py:2683: RuntimeWarning: Degrees of freedom <= 0 for slice\n",
      "  c = cov(x, y, rowvar, dtype=dtype)\n",
      "c:\\users\\faroo\\.venv\\lib\\site-packages\\numpy\\lib\\function_base.py:2542: RuntimeWarning: divide by zero encountered in true_divide\n",
      "  c *= np.true_divide(1, fact)\n"
     ]
    }
   ],
   "source": [
    "similar_to_star_wars = movie_matrix.corrwith(star_wars_ratings)"
   ],
   "metadata": {
    "collapsed": false,
    "pycharm": {
     "name": "#%%\n"
    }
   }
  },
  {
   "cell_type": "code",
   "execution_count": 63,
   "outputs": [
    {
     "data": {
      "text/plain": "title\n'Til There Was You (1997)                0.872872\n1-900 (1994)                            -0.645497\n101 Dalmatians (1996)                    0.211132\n12 Angry Men (1957)                      0.184289\n187 (1997)                               0.027398\n                                           ...   \nYoung Guns II (1990)                     0.228615\nYoung Poisoner's Handbook, The (1995)   -0.007374\nZeus and Roxanne (1997)                  0.818182\nunknown                                  0.723123\nÁ köldum klaka (Cold Fever) (1994)            NaN\nLength: 1664, dtype: float64"
     },
     "execution_count": 63,
     "metadata": {},
     "output_type": "execute_result"
    }
   ],
   "source": [
    "similar_to_star_wars"
   ],
   "metadata": {
    "collapsed": false,
    "pycharm": {
     "name": "#%%\n"
    }
   }
  },
  {
   "cell_type": "code",
   "execution_count": 64,
   "outputs": [
    {
     "name": "stderr",
     "output_type": "stream",
     "text": [
      "c:\\users\\faroo\\.venv\\lib\\site-packages\\numpy\\lib\\function_base.py:2683: RuntimeWarning: Degrees of freedom <= 0 for slice\n",
      "  c = cov(x, y, rowvar, dtype=dtype)\n",
      "c:\\users\\faroo\\.venv\\lib\\site-packages\\numpy\\lib\\function_base.py:2542: RuntimeWarning: divide by zero encountered in true_divide\n",
      "  c *= np.true_divide(1, fact)\n"
     ]
    }
   ],
   "source": [
    "similar_to_liar_liar = movie_matrix.corrwith(liar_liar_ratings)"
   ],
   "metadata": {
    "collapsed": false,
    "pycharm": {
     "name": "#%%\n"
    }
   }
  },
  {
   "cell_type": "code",
   "execution_count": 65,
   "outputs": [
    {
     "data": {
      "text/plain": "title\n'Til There Was You (1997)                0.118913\n1-900 (1994)                                  NaN\n101 Dalmatians (1996)                    0.469765\n12 Angry Men (1957)                      0.066272\n187 (1997)                               0.175145\n                                           ...   \nYoung Guns II (1990)                     0.352174\nYoung Poisoner's Handbook, The (1995)    0.445016\nZeus and Roxanne (1997)                 -0.500000\nunknown                                  0.870388\nÁ köldum klaka (Cold Fever) (1994)            NaN\nLength: 1664, dtype: float64"
     },
     "execution_count": 65,
     "metadata": {},
     "output_type": "execute_result"
    }
   ],
   "source": [
    "similar_to_liar_liar"
   ],
   "metadata": {
    "collapsed": false,
    "pycharm": {
     "name": "#%%\n"
    }
   }
  },
  {
   "cell_type": "code",
   "execution_count": 68,
   "outputs": [
    {
     "data": {
      "text/plain": "                                       correlation\ntitle                                             \n'Til There Was You (1997)                 0.872872\n1-900 (1994)                             -0.645497\n101 Dalmatians (1996)                     0.211132\n12 Angry Men (1957)                       0.184289\n187 (1997)                                0.027398\n...                                            ...\nYoung Guns (1988)                         0.186377\nYoung Guns II (1990)                      0.228615\nYoung Poisoner's Handbook, The (1995)    -0.007374\nZeus and Roxanne (1997)                   0.818182\nunknown                                   0.723123\n\n[1410 rows x 1 columns]",
      "text/html": "<div>\n<style scoped>\n    .dataframe tbody tr th:only-of-type {\n        vertical-align: middle;\n    }\n\n    .dataframe tbody tr th {\n        vertical-align: top;\n    }\n\n    .dataframe thead th {\n        text-align: right;\n    }\n</style>\n<table border=\"1\" class=\"dataframe\">\n  <thead>\n    <tr style=\"text-align: right;\">\n      <th></th>\n      <th>correlation</th>\n    </tr>\n    <tr>\n      <th>title</th>\n      <th></th>\n    </tr>\n  </thead>\n  <tbody>\n    <tr>\n      <th>'Til There Was You (1997)</th>\n      <td>0.872872</td>\n    </tr>\n    <tr>\n      <th>1-900 (1994)</th>\n      <td>-0.645497</td>\n    </tr>\n    <tr>\n      <th>101 Dalmatians (1996)</th>\n      <td>0.211132</td>\n    </tr>\n    <tr>\n      <th>12 Angry Men (1957)</th>\n      <td>0.184289</td>\n    </tr>\n    <tr>\n      <th>187 (1997)</th>\n      <td>0.027398</td>\n    </tr>\n    <tr>\n      <th>...</th>\n      <td>...</td>\n    </tr>\n    <tr>\n      <th>Young Guns (1988)</th>\n      <td>0.186377</td>\n    </tr>\n    <tr>\n      <th>Young Guns II (1990)</th>\n      <td>0.228615</td>\n    </tr>\n    <tr>\n      <th>Young Poisoner's Handbook, The (1995)</th>\n      <td>-0.007374</td>\n    </tr>\n    <tr>\n      <th>Zeus and Roxanne (1997)</th>\n      <td>0.818182</td>\n    </tr>\n    <tr>\n      <th>unknown</th>\n      <td>0.723123</td>\n    </tr>\n  </tbody>\n</table>\n<p>1410 rows × 1 columns</p>\n</div>"
     },
     "execution_count": 68,
     "metadata": {},
     "output_type": "execute_result"
    }
   ],
   "source": [
    "corr_star_wars_df = pd.DataFrame(similar_to_star_wars, columns=[\"correlation\"])\n",
    "corr_star_wars_df.dropna(inplace=True)\n",
    "corr_star_wars_df"
   ],
   "metadata": {
    "collapsed": false,
    "pycharm": {
     "name": "#%%\n"
    }
   }
  },
  {
   "cell_type": "code",
   "execution_count": 69,
   "outputs": [
    {
     "data": {
      "text/plain": "                            correlation\ntitle                                  \nHollow Reed (1996)                  1.0\nCommandments (1997)                 1.0\nCosi (1996)                         1.0\nNo Escape (1994)                    1.0\nStripes (1981)                      1.0\n...                                 ...\nFor Ever Mozart (1996)             -1.0\nFrankie Starlight (1995)           -1.0\nI Like It Like That (1994)         -1.0\nAmerican Dream (1990)              -1.0\nTheodore Rex (1995)                -1.0\n\n[1410 rows x 1 columns]",
      "text/html": "<div>\n<style scoped>\n    .dataframe tbody tr th:only-of-type {\n        vertical-align: middle;\n    }\n\n    .dataframe tbody tr th {\n        vertical-align: top;\n    }\n\n    .dataframe thead th {\n        text-align: right;\n    }\n</style>\n<table border=\"1\" class=\"dataframe\">\n  <thead>\n    <tr style=\"text-align: right;\">\n      <th></th>\n      <th>correlation</th>\n    </tr>\n    <tr>\n      <th>title</th>\n      <th></th>\n    </tr>\n  </thead>\n  <tbody>\n    <tr>\n      <th>Hollow Reed (1996)</th>\n      <td>1.0</td>\n    </tr>\n    <tr>\n      <th>Commandments (1997)</th>\n      <td>1.0</td>\n    </tr>\n    <tr>\n      <th>Cosi (1996)</th>\n      <td>1.0</td>\n    </tr>\n    <tr>\n      <th>No Escape (1994)</th>\n      <td>1.0</td>\n    </tr>\n    <tr>\n      <th>Stripes (1981)</th>\n      <td>1.0</td>\n    </tr>\n    <tr>\n      <th>...</th>\n      <td>...</td>\n    </tr>\n    <tr>\n      <th>For Ever Mozart (1996)</th>\n      <td>-1.0</td>\n    </tr>\n    <tr>\n      <th>Frankie Starlight (1995)</th>\n      <td>-1.0</td>\n    </tr>\n    <tr>\n      <th>I Like It Like That (1994)</th>\n      <td>-1.0</td>\n    </tr>\n    <tr>\n      <th>American Dream (1990)</th>\n      <td>-1.0</td>\n    </tr>\n    <tr>\n      <th>Theodore Rex (1995)</th>\n      <td>-1.0</td>\n    </tr>\n  </tbody>\n</table>\n<p>1410 rows × 1 columns</p>\n</div>"
     },
     "execution_count": 69,
     "metadata": {},
     "output_type": "execute_result"
    }
   ],
   "source": [
    "corr_star_wars_df.sort_values(\"correlation\", ascending=False)"
   ],
   "metadata": {
    "collapsed": false,
    "pycharm": {
     "name": "#%%\n"
    }
   }
  },
  {
   "cell_type": "code",
   "execution_count": 70,
   "outputs": [
    {
     "data": {
      "text/plain": "                                       correlation  num_ratings\ntitle                                                          \n'Til There Was You (1997)                 0.872872            9\n1-900 (1994)                             -0.645497            5\n101 Dalmatians (1996)                     0.211132          109\n12 Angry Men (1957)                       0.184289          125\n187 (1997)                                0.027398           41\n...                                            ...          ...\nYoung Guns (1988)                         0.186377          101\nYoung Guns II (1990)                      0.228615           44\nYoung Poisoner's Handbook, The (1995)    -0.007374           41\nZeus and Roxanne (1997)                   0.818182            6\nunknown                                   0.723123            9\n\n[1410 rows x 2 columns]",
      "text/html": "<div>\n<style scoped>\n    .dataframe tbody tr th:only-of-type {\n        vertical-align: middle;\n    }\n\n    .dataframe tbody tr th {\n        vertical-align: top;\n    }\n\n    .dataframe thead th {\n        text-align: right;\n    }\n</style>\n<table border=\"1\" class=\"dataframe\">\n  <thead>\n    <tr style=\"text-align: right;\">\n      <th></th>\n      <th>correlation</th>\n      <th>num_ratings</th>\n    </tr>\n    <tr>\n      <th>title</th>\n      <th></th>\n      <th></th>\n    </tr>\n  </thead>\n  <tbody>\n    <tr>\n      <th>'Til There Was You (1997)</th>\n      <td>0.872872</td>\n      <td>9</td>\n    </tr>\n    <tr>\n      <th>1-900 (1994)</th>\n      <td>-0.645497</td>\n      <td>5</td>\n    </tr>\n    <tr>\n      <th>101 Dalmatians (1996)</th>\n      <td>0.211132</td>\n      <td>109</td>\n    </tr>\n    <tr>\n      <th>12 Angry Men (1957)</th>\n      <td>0.184289</td>\n      <td>125</td>\n    </tr>\n    <tr>\n      <th>187 (1997)</th>\n      <td>0.027398</td>\n      <td>41</td>\n    </tr>\n    <tr>\n      <th>...</th>\n      <td>...</td>\n      <td>...</td>\n    </tr>\n    <tr>\n      <th>Young Guns (1988)</th>\n      <td>0.186377</td>\n      <td>101</td>\n    </tr>\n    <tr>\n      <th>Young Guns II (1990)</th>\n      <td>0.228615</td>\n      <td>44</td>\n    </tr>\n    <tr>\n      <th>Young Poisoner's Handbook, The (1995)</th>\n      <td>-0.007374</td>\n      <td>41</td>\n    </tr>\n    <tr>\n      <th>Zeus and Roxanne (1997)</th>\n      <td>0.818182</td>\n      <td>6</td>\n    </tr>\n    <tr>\n      <th>unknown</th>\n      <td>0.723123</td>\n      <td>9</td>\n    </tr>\n  </tbody>\n</table>\n<p>1410 rows × 2 columns</p>\n</div>"
     },
     "execution_count": 70,
     "metadata": {},
     "output_type": "execute_result"
    }
   ],
   "source": [
    "corr_star_wars_df = corr_star_wars_df.join(ratings[\"num_ratings\"])\n",
    "corr_star_wars_df"
   ],
   "metadata": {
    "collapsed": false,
    "pycharm": {
     "name": "#%%\n"
    }
   }
  },
  {
   "cell_type": "code",
   "execution_count": 71,
   "outputs": [
    {
     "data": {
      "text/plain": "                                                    correlation  num_ratings\ntitle                                                                       \nStar Wars (1977)                                       1.000000          584\nEmpire Strikes Back, The (1980)                        0.748353          368\nReturn of the Jedi (1983)                              0.672556          507\nRaiders of the Lost Ark (1981)                         0.536117          420\nAustin Powers: International Man of Mystery (1997)     0.377433          130\n...                                                         ...          ...\nEdge, The (1997)                                      -0.127167          113\nAs Good As It Gets (1997)                             -0.130466          112\nCrash (1996)                                          -0.148507          128\nG.I. Jane (1997)                                      -0.176734          175\nFirst Wives Club, The (1996)                          -0.194496          160\n\n[334 rows x 2 columns]",
      "text/html": "<div>\n<style scoped>\n    .dataframe tbody tr th:only-of-type {\n        vertical-align: middle;\n    }\n\n    .dataframe tbody tr th {\n        vertical-align: top;\n    }\n\n    .dataframe thead th {\n        text-align: right;\n    }\n</style>\n<table border=\"1\" class=\"dataframe\">\n  <thead>\n    <tr style=\"text-align: right;\">\n      <th></th>\n      <th>correlation</th>\n      <th>num_ratings</th>\n    </tr>\n    <tr>\n      <th>title</th>\n      <th></th>\n      <th></th>\n    </tr>\n  </thead>\n  <tbody>\n    <tr>\n      <th>Star Wars (1977)</th>\n      <td>1.000000</td>\n      <td>584</td>\n    </tr>\n    <tr>\n      <th>Empire Strikes Back, The (1980)</th>\n      <td>0.748353</td>\n      <td>368</td>\n    </tr>\n    <tr>\n      <th>Return of the Jedi (1983)</th>\n      <td>0.672556</td>\n      <td>507</td>\n    </tr>\n    <tr>\n      <th>Raiders of the Lost Ark (1981)</th>\n      <td>0.536117</td>\n      <td>420</td>\n    </tr>\n    <tr>\n      <th>Austin Powers: International Man of Mystery (1997)</th>\n      <td>0.377433</td>\n      <td>130</td>\n    </tr>\n    <tr>\n      <th>...</th>\n      <td>...</td>\n      <td>...</td>\n    </tr>\n    <tr>\n      <th>Edge, The (1997)</th>\n      <td>-0.127167</td>\n      <td>113</td>\n    </tr>\n    <tr>\n      <th>As Good As It Gets (1997)</th>\n      <td>-0.130466</td>\n      <td>112</td>\n    </tr>\n    <tr>\n      <th>Crash (1996)</th>\n      <td>-0.148507</td>\n      <td>128</td>\n    </tr>\n    <tr>\n      <th>G.I. Jane (1997)</th>\n      <td>-0.176734</td>\n      <td>175</td>\n    </tr>\n    <tr>\n      <th>First Wives Club, The (1996)</th>\n      <td>-0.194496</td>\n      <td>160</td>\n    </tr>\n  </tbody>\n</table>\n<p>334 rows × 2 columns</p>\n</div>"
     },
     "execution_count": 71,
     "metadata": {},
     "output_type": "execute_result"
    }
   ],
   "source": [
    "corr_star_wars_df[corr_star_wars_df[\"num_ratings\"] > 100].sort_values(\"correlation\", ascending=False)"
   ],
   "metadata": {
    "collapsed": false,
    "pycharm": {
     "name": "#%%\n"
    }
   }
  },
  {
   "cell_type": "code",
   "execution_count": 72,
   "outputs": [
    {
     "data": {
      "text/plain": "      item_id                                      title\n0           1                           Toy Story (1995)\n1           2                           GoldenEye (1995)\n2           3                          Four Rooms (1995)\n3           4                          Get Shorty (1995)\n4           5                             Copycat (1995)\n...       ...                                        ...\n1677     1678                          Mat' i syn (1997)\n1678     1679                           B. Monkey (1998)\n1679     1680                       Sliding Doors (1998)\n1680     1681                        You So Crazy (1994)\n1681     1682  Scream of Stone (Schrei aus Stein) (1991)\n\n[1682 rows x 2 columns]",
      "text/html": "<div>\n<style scoped>\n    .dataframe tbody tr th:only-of-type {\n        vertical-align: middle;\n    }\n\n    .dataframe tbody tr th {\n        vertical-align: top;\n    }\n\n    .dataframe thead th {\n        text-align: right;\n    }\n</style>\n<table border=\"1\" class=\"dataframe\">\n  <thead>\n    <tr style=\"text-align: right;\">\n      <th></th>\n      <th>item_id</th>\n      <th>title</th>\n    </tr>\n  </thead>\n  <tbody>\n    <tr>\n      <th>0</th>\n      <td>1</td>\n      <td>Toy Story (1995)</td>\n    </tr>\n    <tr>\n      <th>1</th>\n      <td>2</td>\n      <td>GoldenEye (1995)</td>\n    </tr>\n    <tr>\n      <th>2</th>\n      <td>3</td>\n      <td>Four Rooms (1995)</td>\n    </tr>\n    <tr>\n      <th>3</th>\n      <td>4</td>\n      <td>Get Shorty (1995)</td>\n    </tr>\n    <tr>\n      <th>4</th>\n      <td>5</td>\n      <td>Copycat (1995)</td>\n    </tr>\n    <tr>\n      <th>...</th>\n      <td>...</td>\n      <td>...</td>\n    </tr>\n    <tr>\n      <th>1677</th>\n      <td>1678</td>\n      <td>Mat' i syn (1997)</td>\n    </tr>\n    <tr>\n      <th>1678</th>\n      <td>1679</td>\n      <td>B. Monkey (1998)</td>\n    </tr>\n    <tr>\n      <th>1679</th>\n      <td>1680</td>\n      <td>Sliding Doors (1998)</td>\n    </tr>\n    <tr>\n      <th>1680</th>\n      <td>1681</td>\n      <td>You So Crazy (1994)</td>\n    </tr>\n    <tr>\n      <th>1681</th>\n      <td>1682</td>\n      <td>Scream of Stone (Schrei aus Stein) (1991)</td>\n    </tr>\n  </tbody>\n</table>\n<p>1682 rows × 2 columns</p>\n</div>"
     },
     "execution_count": 72,
     "metadata": {},
     "output_type": "execute_result"
    }
   ],
   "source": [
    "movie_titles_df"
   ],
   "metadata": {
    "collapsed": false,
    "pycharm": {
     "name": "#%%\n"
    }
   }
  },
  {
   "cell_type": "code",
   "execution_count": 98,
   "outputs": [
    {
     "data": {
      "text/plain": "Empty DataFrame\nColumns: [item_id, title, year, decade]\nIndex: []",
      "text/html": "<div>\n<style scoped>\n    .dataframe tbody tr th:only-of-type {\n        vertical-align: middle;\n    }\n\n    .dataframe tbody tr th {\n        vertical-align: top;\n    }\n\n    .dataframe thead th {\n        text-align: right;\n    }\n</style>\n<table border=\"1\" class=\"dataframe\">\n  <thead>\n    <tr style=\"text-align: right;\">\n      <th></th>\n      <th>item_id</th>\n      <th>title</th>\n      <th>year</th>\n      <th>decade</th>\n    </tr>\n  </thead>\n  <tbody>\n  </tbody>\n</table>\n</div>"
     },
     "execution_count": 98,
     "metadata": {},
     "output_type": "execute_result"
    }
   ],
   "source": [
    "movie_titles_df[movie_titles_df[\"year\"].isna()]"
   ],
   "metadata": {
    "collapsed": false,
    "pycharm": {
     "name": "#%%\n"
    }
   }
  },
  {
   "cell_type": "code",
   "execution_count": 99,
   "outputs": [
    {
     "data": {
      "text/plain": "      item_id                                      title    year  decade\n0           1                           Toy Story (1995)  1995.0  2000.0\n1           2                           GoldenEye (1995)  1995.0  2000.0\n2           3                          Four Rooms (1995)  1995.0  2000.0\n3           4                          Get Shorty (1995)  1995.0  2000.0\n4           5                             Copycat (1995)  1995.0  2000.0\n...       ...                                        ...     ...     ...\n1677     1678                          Mat' i syn (1997)  1997.0  2000.0\n1678     1679                           B. Monkey (1998)  1998.0  2000.0\n1679     1680                       Sliding Doors (1998)  1998.0  2000.0\n1680     1681                        You So Crazy (1994)  1994.0  1990.0\n1681     1682  Scream of Stone (Schrei aus Stein) (1991)  1991.0  1990.0\n\n[1681 rows x 4 columns]",
      "text/html": "<div>\n<style scoped>\n    .dataframe tbody tr th:only-of-type {\n        vertical-align: middle;\n    }\n\n    .dataframe tbody tr th {\n        vertical-align: top;\n    }\n\n    .dataframe thead th {\n        text-align: right;\n    }\n</style>\n<table border=\"1\" class=\"dataframe\">\n  <thead>\n    <tr style=\"text-align: right;\">\n      <th></th>\n      <th>item_id</th>\n      <th>title</th>\n      <th>year</th>\n      <th>decade</th>\n    </tr>\n  </thead>\n  <tbody>\n    <tr>\n      <th>0</th>\n      <td>1</td>\n      <td>Toy Story (1995)</td>\n      <td>1995.0</td>\n      <td>2000.0</td>\n    </tr>\n    <tr>\n      <th>1</th>\n      <td>2</td>\n      <td>GoldenEye (1995)</td>\n      <td>1995.0</td>\n      <td>2000.0</td>\n    </tr>\n    <tr>\n      <th>2</th>\n      <td>3</td>\n      <td>Four Rooms (1995)</td>\n      <td>1995.0</td>\n      <td>2000.0</td>\n    </tr>\n    <tr>\n      <th>3</th>\n      <td>4</td>\n      <td>Get Shorty (1995)</td>\n      <td>1995.0</td>\n      <td>2000.0</td>\n    </tr>\n    <tr>\n      <th>4</th>\n      <td>5</td>\n      <td>Copycat (1995)</td>\n      <td>1995.0</td>\n      <td>2000.0</td>\n    </tr>\n    <tr>\n      <th>...</th>\n      <td>...</td>\n      <td>...</td>\n      <td>...</td>\n      <td>...</td>\n    </tr>\n    <tr>\n      <th>1677</th>\n      <td>1678</td>\n      <td>Mat' i syn (1997)</td>\n      <td>1997.0</td>\n      <td>2000.0</td>\n    </tr>\n    <tr>\n      <th>1678</th>\n      <td>1679</td>\n      <td>B. Monkey (1998)</td>\n      <td>1998.0</td>\n      <td>2000.0</td>\n    </tr>\n    <tr>\n      <th>1679</th>\n      <td>1680</td>\n      <td>Sliding Doors (1998)</td>\n      <td>1998.0</td>\n      <td>2000.0</td>\n    </tr>\n    <tr>\n      <th>1680</th>\n      <td>1681</td>\n      <td>You So Crazy (1994)</td>\n      <td>1994.0</td>\n      <td>1990.0</td>\n    </tr>\n    <tr>\n      <th>1681</th>\n      <td>1682</td>\n      <td>Scream of Stone (Schrei aus Stein) (1991)</td>\n      <td>1991.0</td>\n      <td>1990.0</td>\n    </tr>\n  </tbody>\n</table>\n<p>1681 rows × 4 columns</p>\n</div>"
     },
     "execution_count": 99,
     "metadata": {},
     "output_type": "execute_result"
    }
   ],
   "source": [
    "movie_titles_df"
   ],
   "metadata": {
    "collapsed": false,
    "pycharm": {
     "name": "#%%\n"
    }
   }
  },
  {
   "cell_type": "code",
   "execution_count": 100,
   "outputs": [],
   "source": [
    "df = pd.merge(df, movie_titles_df, how=\"inner\", on=\"item_id\")"
   ],
   "metadata": {
    "collapsed": false,
    "pycharm": {
     "name": "#%%\n"
    }
   }
  },
  {
   "cell_type": "code",
   "execution_count": 101,
   "outputs": [
    {
     "data": {
      "text/plain": "       user_id  item_id  rating  timestamp  \\\n0            0       50       5  881250949   \n1          290       50       5  880473582   \n2           79       50       4  891271545   \n3            2       50       5  888552084   \n4            8       50       5  879362124   \n...        ...      ...     ...        ...   \n99989      840     1674       4  891211682   \n99990      655     1640       3  888474646   \n99991      655     1637       3  888984255   \n99992      655     1630       3  887428735   \n99993      655     1641       3  887427810   \n\n                                                 title_x  \\\n0                                       Star Wars (1977)   \n1                                       Star Wars (1977)   \n2                                       Star Wars (1977)   \n3                                       Star Wars (1977)   \n4                                       Star Wars (1977)   \n...                                                  ...   \n99989                                  Mamma Roma (1962)   \n99990                             Eighth Day, The (1996)   \n99991                                  Girls Town (1996)   \n99992  Silence of the Palace, The (Saimt el Qusur) (1...   \n99993                                    Dadetown (1995)   \n\n                                                 title_y    year  decade  \n0                                       Star Wars (1977)  1977.0  1980.0  \n1                                       Star Wars (1977)  1977.0  1980.0  \n2                                       Star Wars (1977)  1977.0  1980.0  \n3                                       Star Wars (1977)  1977.0  1980.0  \n4                                       Star Wars (1977)  1977.0  1980.0  \n...                                                  ...     ...     ...  \n99989                                  Mamma Roma (1962)  1962.0  1960.0  \n99990                             Eighth Day, The (1996)  1996.0  2000.0  \n99991                                  Girls Town (1996)  1996.0  2000.0  \n99992  Silence of the Palace, The (Saimt el Qusur) (1...  1994.0  1990.0  \n99993                                    Dadetown (1995)  1995.0  2000.0  \n\n[99994 rows x 8 columns]",
      "text/html": "<div>\n<style scoped>\n    .dataframe tbody tr th:only-of-type {\n        vertical-align: middle;\n    }\n\n    .dataframe tbody tr th {\n        vertical-align: top;\n    }\n\n    .dataframe thead th {\n        text-align: right;\n    }\n</style>\n<table border=\"1\" class=\"dataframe\">\n  <thead>\n    <tr style=\"text-align: right;\">\n      <th></th>\n      <th>user_id</th>\n      <th>item_id</th>\n      <th>rating</th>\n      <th>timestamp</th>\n      <th>title_x</th>\n      <th>title_y</th>\n      <th>year</th>\n      <th>decade</th>\n    </tr>\n  </thead>\n  <tbody>\n    <tr>\n      <th>0</th>\n      <td>0</td>\n      <td>50</td>\n      <td>5</td>\n      <td>881250949</td>\n      <td>Star Wars (1977)</td>\n      <td>Star Wars (1977)</td>\n      <td>1977.0</td>\n      <td>1980.0</td>\n    </tr>\n    <tr>\n      <th>1</th>\n      <td>290</td>\n      <td>50</td>\n      <td>5</td>\n      <td>880473582</td>\n      <td>Star Wars (1977)</td>\n      <td>Star Wars (1977)</td>\n      <td>1977.0</td>\n      <td>1980.0</td>\n    </tr>\n    <tr>\n      <th>2</th>\n      <td>79</td>\n      <td>50</td>\n      <td>4</td>\n      <td>891271545</td>\n      <td>Star Wars (1977)</td>\n      <td>Star Wars (1977)</td>\n      <td>1977.0</td>\n      <td>1980.0</td>\n    </tr>\n    <tr>\n      <th>3</th>\n      <td>2</td>\n      <td>50</td>\n      <td>5</td>\n      <td>888552084</td>\n      <td>Star Wars (1977)</td>\n      <td>Star Wars (1977)</td>\n      <td>1977.0</td>\n      <td>1980.0</td>\n    </tr>\n    <tr>\n      <th>4</th>\n      <td>8</td>\n      <td>50</td>\n      <td>5</td>\n      <td>879362124</td>\n      <td>Star Wars (1977)</td>\n      <td>Star Wars (1977)</td>\n      <td>1977.0</td>\n      <td>1980.0</td>\n    </tr>\n    <tr>\n      <th>...</th>\n      <td>...</td>\n      <td>...</td>\n      <td>...</td>\n      <td>...</td>\n      <td>...</td>\n      <td>...</td>\n      <td>...</td>\n      <td>...</td>\n    </tr>\n    <tr>\n      <th>99989</th>\n      <td>840</td>\n      <td>1674</td>\n      <td>4</td>\n      <td>891211682</td>\n      <td>Mamma Roma (1962)</td>\n      <td>Mamma Roma (1962)</td>\n      <td>1962.0</td>\n      <td>1960.0</td>\n    </tr>\n    <tr>\n      <th>99990</th>\n      <td>655</td>\n      <td>1640</td>\n      <td>3</td>\n      <td>888474646</td>\n      <td>Eighth Day, The (1996)</td>\n      <td>Eighth Day, The (1996)</td>\n      <td>1996.0</td>\n      <td>2000.0</td>\n    </tr>\n    <tr>\n      <th>99991</th>\n      <td>655</td>\n      <td>1637</td>\n      <td>3</td>\n      <td>888984255</td>\n      <td>Girls Town (1996)</td>\n      <td>Girls Town (1996)</td>\n      <td>1996.0</td>\n      <td>2000.0</td>\n    </tr>\n    <tr>\n      <th>99992</th>\n      <td>655</td>\n      <td>1630</td>\n      <td>3</td>\n      <td>887428735</td>\n      <td>Silence of the Palace, The (Saimt el Qusur) (1...</td>\n      <td>Silence of the Palace, The (Saimt el Qusur) (1...</td>\n      <td>1994.0</td>\n      <td>1990.0</td>\n    </tr>\n    <tr>\n      <th>99993</th>\n      <td>655</td>\n      <td>1641</td>\n      <td>3</td>\n      <td>887427810</td>\n      <td>Dadetown (1995)</td>\n      <td>Dadetown (1995)</td>\n      <td>1995.0</td>\n      <td>2000.0</td>\n    </tr>\n  </tbody>\n</table>\n<p>99994 rows × 8 columns</p>\n</div>"
     },
     "execution_count": 101,
     "metadata": {},
     "output_type": "execute_result"
    }
   ],
   "source": [
    "df"
   ],
   "metadata": {
    "collapsed": false,
    "pycharm": {
     "name": "#%%\n"
    }
   }
  }
 ],
 "metadata": {
  "kernelspec": {
   "display_name": "Python 3",
   "language": "python",
   "name": "python3"
  },
  "language_info": {
   "codemirror_mode": {
    "name": "ipython",
    "version": 2
   },
   "file_extension": ".py",
   "mimetype": "text/x-python",
   "name": "python",
   "nbconvert_exporter": "python",
   "pygments_lexer": "ipython2",
   "version": "2.7.6"
  }
 },
 "nbformat": 4,
 "nbformat_minor": 0
}